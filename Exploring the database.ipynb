{
 "cells": [
  {
   "cell_type": "code",
   "execution_count": 1,
   "metadata": {},
   "outputs": [],
   "source": [
    "import pandas as pd\n",
    "import numpy as np\n",
    "import matplotlib.pyplot as plt\n",
    "import seaborn as sns"
   ]
  },
  {
   "cell_type": "code",
   "execution_count": 2,
   "metadata": {},
   "outputs": [],
   "source": [
    "df = pd.read_csv(\"ks-projects-201801.csv\")"
   ]
  },
  {
   "cell_type": "code",
   "execution_count": 3,
   "metadata": {
    "scrolled": false
   },
   "outputs": [
    {
     "data": {
      "text/html": [
       "<div>\n",
       "<style scoped>\n",
       "    .dataframe tbody tr th:only-of-type {\n",
       "        vertical-align: middle;\n",
       "    }\n",
       "\n",
       "    .dataframe tbody tr th {\n",
       "        vertical-align: top;\n",
       "    }\n",
       "\n",
       "    .dataframe thead th {\n",
       "        text-align: right;\n",
       "    }\n",
       "</style>\n",
       "<table border=\"1\" class=\"dataframe\">\n",
       "  <thead>\n",
       "    <tr style=\"text-align: right;\">\n",
       "      <th></th>\n",
       "      <th>ID</th>\n",
       "      <th>name</th>\n",
       "      <th>category</th>\n",
       "      <th>main_category</th>\n",
       "      <th>currency</th>\n",
       "      <th>deadline</th>\n",
       "      <th>goal</th>\n",
       "      <th>launched</th>\n",
       "      <th>pledged</th>\n",
       "      <th>state</th>\n",
       "      <th>backers</th>\n",
       "      <th>country</th>\n",
       "      <th>usd pledged</th>\n",
       "      <th>usd_pledged_real</th>\n",
       "      <th>usd_goal_real</th>\n",
       "    </tr>\n",
       "  </thead>\n",
       "  <tbody>\n",
       "    <tr>\n",
       "      <th>0</th>\n",
       "      <td>1000002330</td>\n",
       "      <td>The Songs of Adelaide &amp; Abullah</td>\n",
       "      <td>Poetry</td>\n",
       "      <td>Publishing</td>\n",
       "      <td>GBP</td>\n",
       "      <td>2015-10-09</td>\n",
       "      <td>1000.0</td>\n",
       "      <td>2015-08-11 12:12:28</td>\n",
       "      <td>0.0</td>\n",
       "      <td>failed</td>\n",
       "      <td>0</td>\n",
       "      <td>GB</td>\n",
       "      <td>0.0</td>\n",
       "      <td>0.0</td>\n",
       "      <td>1533.95</td>\n",
       "    </tr>\n",
       "    <tr>\n",
       "      <th>1</th>\n",
       "      <td>1000003930</td>\n",
       "      <td>Greeting From Earth: ZGAC Arts Capsule For ET</td>\n",
       "      <td>Narrative Film</td>\n",
       "      <td>Film &amp; Video</td>\n",
       "      <td>USD</td>\n",
       "      <td>2017-11-01</td>\n",
       "      <td>30000.0</td>\n",
       "      <td>2017-09-02 04:43:57</td>\n",
       "      <td>2421.0</td>\n",
       "      <td>failed</td>\n",
       "      <td>15</td>\n",
       "      <td>US</td>\n",
       "      <td>100.0</td>\n",
       "      <td>2421.0</td>\n",
       "      <td>30000.00</td>\n",
       "    </tr>\n",
       "    <tr>\n",
       "      <th>2</th>\n",
       "      <td>1000004038</td>\n",
       "      <td>Where is Hank?</td>\n",
       "      <td>Narrative Film</td>\n",
       "      <td>Film &amp; Video</td>\n",
       "      <td>USD</td>\n",
       "      <td>2013-02-26</td>\n",
       "      <td>45000.0</td>\n",
       "      <td>2013-01-12 00:20:50</td>\n",
       "      <td>220.0</td>\n",
       "      <td>failed</td>\n",
       "      <td>3</td>\n",
       "      <td>US</td>\n",
       "      <td>220.0</td>\n",
       "      <td>220.0</td>\n",
       "      <td>45000.00</td>\n",
       "    </tr>\n",
       "    <tr>\n",
       "      <th>3</th>\n",
       "      <td>1000007540</td>\n",
       "      <td>ToshiCapital Rekordz Needs Help to Complete Album</td>\n",
       "      <td>Music</td>\n",
       "      <td>Music</td>\n",
       "      <td>USD</td>\n",
       "      <td>2012-04-16</td>\n",
       "      <td>5000.0</td>\n",
       "      <td>2012-03-17 03:24:11</td>\n",
       "      <td>1.0</td>\n",
       "      <td>failed</td>\n",
       "      <td>1</td>\n",
       "      <td>US</td>\n",
       "      <td>1.0</td>\n",
       "      <td>1.0</td>\n",
       "      <td>5000.00</td>\n",
       "    </tr>\n",
       "    <tr>\n",
       "      <th>4</th>\n",
       "      <td>1000011046</td>\n",
       "      <td>Community Film Project: The Art of Neighborhoo...</td>\n",
       "      <td>Film &amp; Video</td>\n",
       "      <td>Film &amp; Video</td>\n",
       "      <td>USD</td>\n",
       "      <td>2015-08-29</td>\n",
       "      <td>19500.0</td>\n",
       "      <td>2015-07-04 08:35:03</td>\n",
       "      <td>1283.0</td>\n",
       "      <td>canceled</td>\n",
       "      <td>14</td>\n",
       "      <td>US</td>\n",
       "      <td>1283.0</td>\n",
       "      <td>1283.0</td>\n",
       "      <td>19500.00</td>\n",
       "    </tr>\n",
       "  </tbody>\n",
       "</table>\n",
       "</div>"
      ],
      "text/plain": [
       "           ID                                               name  \\\n",
       "0  1000002330                    The Songs of Adelaide & Abullah   \n",
       "1  1000003930      Greeting From Earth: ZGAC Arts Capsule For ET   \n",
       "2  1000004038                                     Where is Hank?   \n",
       "3  1000007540  ToshiCapital Rekordz Needs Help to Complete Album   \n",
       "4  1000011046  Community Film Project: The Art of Neighborhoo...   \n",
       "\n",
       "         category main_category currency    deadline     goal  \\\n",
       "0          Poetry    Publishing      GBP  2015-10-09   1000.0   \n",
       "1  Narrative Film  Film & Video      USD  2017-11-01  30000.0   \n",
       "2  Narrative Film  Film & Video      USD  2013-02-26  45000.0   \n",
       "3           Music         Music      USD  2012-04-16   5000.0   \n",
       "4    Film & Video  Film & Video      USD  2015-08-29  19500.0   \n",
       "\n",
       "              launched  pledged     state  backers country  usd pledged  \\\n",
       "0  2015-08-11 12:12:28      0.0    failed        0      GB          0.0   \n",
       "1  2017-09-02 04:43:57   2421.0    failed       15      US        100.0   \n",
       "2  2013-01-12 00:20:50    220.0    failed        3      US        220.0   \n",
       "3  2012-03-17 03:24:11      1.0    failed        1      US          1.0   \n",
       "4  2015-07-04 08:35:03   1283.0  canceled       14      US       1283.0   \n",
       "\n",
       "   usd_pledged_real  usd_goal_real  \n",
       "0               0.0        1533.95  \n",
       "1            2421.0       30000.00  \n",
       "2             220.0       45000.00  \n",
       "3               1.0        5000.00  \n",
       "4            1283.0       19500.00  "
      ]
     },
     "execution_count": 3,
     "metadata": {},
     "output_type": "execute_result"
    }
   ],
   "source": [
    "df.head()"
   ]
  },
  {
   "cell_type": "code",
   "execution_count": 4,
   "metadata": {
    "scrolled": true
   },
   "outputs": [
    {
     "data": {
      "text/html": [
       "<div>\n",
       "<style scoped>\n",
       "    .dataframe tbody tr th:only-of-type {\n",
       "        vertical-align: middle;\n",
       "    }\n",
       "\n",
       "    .dataframe tbody tr th {\n",
       "        vertical-align: top;\n",
       "    }\n",
       "\n",
       "    .dataframe thead th {\n",
       "        text-align: right;\n",
       "    }\n",
       "</style>\n",
       "<table border=\"1\" class=\"dataframe\">\n",
       "  <thead>\n",
       "    <tr style=\"text-align: right;\">\n",
       "      <th></th>\n",
       "      <th>ID</th>\n",
       "      <th>goal</th>\n",
       "      <th>pledged</th>\n",
       "      <th>backers</th>\n",
       "      <th>usd pledged</th>\n",
       "      <th>usd_pledged_real</th>\n",
       "      <th>usd_goal_real</th>\n",
       "    </tr>\n",
       "  </thead>\n",
       "  <tbody>\n",
       "    <tr>\n",
       "      <th>count</th>\n",
       "      <td>3.786610e+05</td>\n",
       "      <td>3.786610e+05</td>\n",
       "      <td>3.786610e+05</td>\n",
       "      <td>378661.000000</td>\n",
       "      <td>3.748640e+05</td>\n",
       "      <td>3.786610e+05</td>\n",
       "      <td>3.786610e+05</td>\n",
       "    </tr>\n",
       "    <tr>\n",
       "      <th>mean</th>\n",
       "      <td>1.074731e+09</td>\n",
       "      <td>4.908079e+04</td>\n",
       "      <td>9.682979e+03</td>\n",
       "      <td>105.617476</td>\n",
       "      <td>7.036729e+03</td>\n",
       "      <td>9.058924e+03</td>\n",
       "      <td>4.545440e+04</td>\n",
       "    </tr>\n",
       "    <tr>\n",
       "      <th>std</th>\n",
       "      <td>6.190862e+08</td>\n",
       "      <td>1.183391e+06</td>\n",
       "      <td>9.563601e+04</td>\n",
       "      <td>907.185035</td>\n",
       "      <td>7.863975e+04</td>\n",
       "      <td>9.097334e+04</td>\n",
       "      <td>1.152950e+06</td>\n",
       "    </tr>\n",
       "    <tr>\n",
       "      <th>min</th>\n",
       "      <td>5.971000e+03</td>\n",
       "      <td>1.000000e-02</td>\n",
       "      <td>0.000000e+00</td>\n",
       "      <td>0.000000</td>\n",
       "      <td>0.000000e+00</td>\n",
       "      <td>0.000000e+00</td>\n",
       "      <td>1.000000e-02</td>\n",
       "    </tr>\n",
       "    <tr>\n",
       "      <th>25%</th>\n",
       "      <td>5.382635e+08</td>\n",
       "      <td>2.000000e+03</td>\n",
       "      <td>3.000000e+01</td>\n",
       "      <td>2.000000</td>\n",
       "      <td>1.698000e+01</td>\n",
       "      <td>3.100000e+01</td>\n",
       "      <td>2.000000e+03</td>\n",
       "    </tr>\n",
       "    <tr>\n",
       "      <th>50%</th>\n",
       "      <td>1.075276e+09</td>\n",
       "      <td>5.200000e+03</td>\n",
       "      <td>6.200000e+02</td>\n",
       "      <td>12.000000</td>\n",
       "      <td>3.947200e+02</td>\n",
       "      <td>6.243300e+02</td>\n",
       "      <td>5.500000e+03</td>\n",
       "    </tr>\n",
       "    <tr>\n",
       "      <th>75%</th>\n",
       "      <td>1.610149e+09</td>\n",
       "      <td>1.600000e+04</td>\n",
       "      <td>4.076000e+03</td>\n",
       "      <td>56.000000</td>\n",
       "      <td>3.034090e+03</td>\n",
       "      <td>4.050000e+03</td>\n",
       "      <td>1.550000e+04</td>\n",
       "    </tr>\n",
       "    <tr>\n",
       "      <th>max</th>\n",
       "      <td>2.147476e+09</td>\n",
       "      <td>1.000000e+08</td>\n",
       "      <td>2.033899e+07</td>\n",
       "      <td>219382.000000</td>\n",
       "      <td>2.033899e+07</td>\n",
       "      <td>2.033899e+07</td>\n",
       "      <td>1.663614e+08</td>\n",
       "    </tr>\n",
       "  </tbody>\n",
       "</table>\n",
       "</div>"
      ],
      "text/plain": [
       "                 ID          goal       pledged        backers   usd pledged  \\\n",
       "count  3.786610e+05  3.786610e+05  3.786610e+05  378661.000000  3.748640e+05   \n",
       "mean   1.074731e+09  4.908079e+04  9.682979e+03     105.617476  7.036729e+03   \n",
       "std    6.190862e+08  1.183391e+06  9.563601e+04     907.185035  7.863975e+04   \n",
       "min    5.971000e+03  1.000000e-02  0.000000e+00       0.000000  0.000000e+00   \n",
       "25%    5.382635e+08  2.000000e+03  3.000000e+01       2.000000  1.698000e+01   \n",
       "50%    1.075276e+09  5.200000e+03  6.200000e+02      12.000000  3.947200e+02   \n",
       "75%    1.610149e+09  1.600000e+04  4.076000e+03      56.000000  3.034090e+03   \n",
       "max    2.147476e+09  1.000000e+08  2.033899e+07  219382.000000  2.033899e+07   \n",
       "\n",
       "       usd_pledged_real  usd_goal_real  \n",
       "count      3.786610e+05   3.786610e+05  \n",
       "mean       9.058924e+03   4.545440e+04  \n",
       "std        9.097334e+04   1.152950e+06  \n",
       "min        0.000000e+00   1.000000e-02  \n",
       "25%        3.100000e+01   2.000000e+03  \n",
       "50%        6.243300e+02   5.500000e+03  \n",
       "75%        4.050000e+03   1.550000e+04  \n",
       "max        2.033899e+07   1.663614e+08  "
      ]
     },
     "execution_count": 4,
     "metadata": {},
     "output_type": "execute_result"
    }
   ],
   "source": [
    "df.describe()"
   ]
  },
  {
   "cell_type": "code",
   "execution_count": 5,
   "metadata": {},
   "outputs": [
    {
     "name": "stdout",
     "output_type": "stream",
     "text": [
      "<class 'pandas.core.frame.DataFrame'>\n",
      "RangeIndex: 378661 entries, 0 to 378660\n",
      "Data columns (total 15 columns):\n",
      " #   Column            Non-Null Count   Dtype  \n",
      "---  ------            --------------   -----  \n",
      " 0   ID                378661 non-null  int64  \n",
      " 1   name              378657 non-null  object \n",
      " 2   category          378661 non-null  object \n",
      " 3   main_category     378661 non-null  object \n",
      " 4   currency          378661 non-null  object \n",
      " 5   deadline          378661 non-null  object \n",
      " 6   goal              378661 non-null  float64\n",
      " 7   launched          378661 non-null  object \n",
      " 8   pledged           378661 non-null  float64\n",
      " 9   state             378661 non-null  object \n",
      " 10  backers           378661 non-null  int64  \n",
      " 11  country           378661 non-null  object \n",
      " 12  usd pledged       374864 non-null  float64\n",
      " 13  usd_pledged_real  378661 non-null  float64\n",
      " 14  usd_goal_real     378661 non-null  float64\n",
      "dtypes: float64(5), int64(2), object(8)\n",
      "memory usage: 43.3+ MB\n"
     ]
    }
   ],
   "source": [
    "df.info()"
   ]
  },
  {
   "cell_type": "code",
   "execution_count": 6,
   "metadata": {},
   "outputs": [],
   "source": [
    "df[\"deadline\"] = pd.to_datetime(df[\"deadline\"])\n",
    "df[\"launched\"] = pd.to_datetime(df[\"launched\"])"
   ]
  },
  {
   "cell_type": "code",
   "execution_count": 7,
   "metadata": {},
   "outputs": [
    {
     "data": {
      "text/plain": [
       "main_category\n",
       "Art             28153\n",
       "Comics          10819\n",
       "Crafts           8809\n",
       "Dance            3768\n",
       "Design          30070\n",
       "Fashion         22816\n",
       "Film & Video    63585\n",
       "Food            24602\n",
       "Games           35231\n",
       "Journalism       4755\n",
       "Music           51918\n",
       "Photography     10779\n",
       "Publishing      39874\n",
       "Technology      32569\n",
       "Theater         10913\n",
       "Name: ID, dtype: int64"
      ]
     },
     "execution_count": 7,
     "metadata": {},
     "output_type": "execute_result"
    }
   ],
   "source": [
    "df.groupby('main_category')['ID'].nunique()"
   ]
  },
  {
   "cell_type": "code",
   "execution_count": 8,
   "metadata": {},
   "outputs": [
    {
     "data": {
      "text/plain": [
       "state\n",
       "canceled       38779\n",
       "failed        197719\n",
       "live            2799\n",
       "successful    133956\n",
       "suspended       1846\n",
       "undefined       3562\n",
       "Name: ID, dtype: int64"
      ]
     },
     "execution_count": 8,
     "metadata": {},
     "output_type": "execute_result"
    }
   ],
   "source": [
    "df.groupby('state')['ID'].nunique()"
   ]
  },
  {
   "cell_type": "markdown",
   "metadata": {},
   "source": [
    "## Cleaning the data list:\n",
    "\n",
    "1.1 Exclude live, suspended and undefined statuses\n",
    "\n",
    "1.2 Add name length column\n",
    "\n",
    "1.3 Add fundraising period\n",
    "\n",
    "1.4 Drop usd pledged column\n",
    "\n",
    "1.5 Rename usd pledged_real colimn\n",
    "\n",
    "1.6 Add avg money per backer column\n",
    "\n",
    "1.7 Add percentage funded\n",
    "\n",
    "1.8 Fix contry values\n",
    "\n",
    "1.9 Fix order of columns"
   ]
  },
  {
   "cell_type": "markdown",
   "metadata": {},
   "source": [
    "### 1.1 Exclude live status"
   ]
  },
  {
   "cell_type": "code",
   "execution_count": 9,
   "metadata": {},
   "outputs": [],
   "source": [
    "df = df[df.state != \"live\"]"
   ]
  },
  {
   "cell_type": "code",
   "execution_count": 10,
   "metadata": {},
   "outputs": [],
   "source": [
    "df = df[df.state != \"suspended\"]"
   ]
  },
  {
   "cell_type": "code",
   "execution_count": 11,
   "metadata": {},
   "outputs": [],
   "source": [
    "df = df[df.state != \"undefined\"]"
   ]
  },
  {
   "cell_type": "markdown",
   "metadata": {},
   "source": [
    "### 1.2 Add name length column"
   ]
  },
  {
   "cell_type": "code",
   "execution_count": 12,
   "metadata": {},
   "outputs": [],
   "source": [
    "df[\"words_in_name\"] = df[\"name\"].str.count(\" \") + 1"
   ]
  },
  {
   "cell_type": "markdown",
   "metadata": {},
   "source": [
    "### 1.3 Add fundraising period"
   ]
  },
  {
   "cell_type": "code",
   "execution_count": 13,
   "metadata": {},
   "outputs": [],
   "source": [
    "df[\"funding_period\"] = df[\"deadline\"].dt.date - df[\"launched\"].dt.date"
   ]
  },
  {
   "cell_type": "markdown",
   "metadata": {},
   "source": [
    "### 1.4 Drop usd pledged column"
   ]
  },
  {
   "cell_type": "code",
   "execution_count": 14,
   "metadata": {},
   "outputs": [],
   "source": [
    "df = df.drop([\"usd pledged\"], axis=1)"
   ]
  },
  {
   "cell_type": "markdown",
   "metadata": {},
   "source": [
    "### 1.5 Rename columns"
   ]
  },
  {
   "cell_type": "code",
   "execution_count": 15,
   "metadata": {},
   "outputs": [],
   "source": [
    "df = df.rename(columns={\"name\": \"project_name\", \"goal\": \"project_goal\", \"pledged\": \"pledged_amount\", \"usd_pledged_real\": \"pledged_amount_usd\", \"usd_goal_real\": \"project_goal_usd\"})"
   ]
  },
  {
   "cell_type": "code",
   "execution_count": 16,
   "metadata": {},
   "outputs": [
    {
     "data": {
      "text/html": [
       "<div>\n",
       "<style scoped>\n",
       "    .dataframe tbody tr th:only-of-type {\n",
       "        vertical-align: middle;\n",
       "    }\n",
       "\n",
       "    .dataframe tbody tr th {\n",
       "        vertical-align: top;\n",
       "    }\n",
       "\n",
       "    .dataframe thead th {\n",
       "        text-align: right;\n",
       "    }\n",
       "</style>\n",
       "<table border=\"1\" class=\"dataframe\">\n",
       "  <thead>\n",
       "    <tr style=\"text-align: right;\">\n",
       "      <th></th>\n",
       "      <th>ID</th>\n",
       "      <th>project_name</th>\n",
       "      <th>category</th>\n",
       "      <th>main_category</th>\n",
       "      <th>currency</th>\n",
       "      <th>deadline</th>\n",
       "      <th>project_goal</th>\n",
       "      <th>launched</th>\n",
       "      <th>pledged_amount</th>\n",
       "      <th>state</th>\n",
       "      <th>backers</th>\n",
       "      <th>country</th>\n",
       "      <th>pledged_amount_usd</th>\n",
       "      <th>project_goal_usd</th>\n",
       "      <th>words_in_name</th>\n",
       "      <th>funding_period</th>\n",
       "    </tr>\n",
       "  </thead>\n",
       "  <tbody>\n",
       "    <tr>\n",
       "      <th>0</th>\n",
       "      <td>1000002330</td>\n",
       "      <td>The Songs of Adelaide &amp; Abullah</td>\n",
       "      <td>Poetry</td>\n",
       "      <td>Publishing</td>\n",
       "      <td>GBP</td>\n",
       "      <td>2015-10-09</td>\n",
       "      <td>1000.0</td>\n",
       "      <td>2015-08-11 12:12:28</td>\n",
       "      <td>0.0</td>\n",
       "      <td>failed</td>\n",
       "      <td>0</td>\n",
       "      <td>GB</td>\n",
       "      <td>0.0</td>\n",
       "      <td>1533.95</td>\n",
       "      <td>6.0</td>\n",
       "      <td>59 days</td>\n",
       "    </tr>\n",
       "    <tr>\n",
       "      <th>1</th>\n",
       "      <td>1000003930</td>\n",
       "      <td>Greeting From Earth: ZGAC Arts Capsule For ET</td>\n",
       "      <td>Narrative Film</td>\n",
       "      <td>Film &amp; Video</td>\n",
       "      <td>USD</td>\n",
       "      <td>2017-11-01</td>\n",
       "      <td>30000.0</td>\n",
       "      <td>2017-09-02 04:43:57</td>\n",
       "      <td>2421.0</td>\n",
       "      <td>failed</td>\n",
       "      <td>15</td>\n",
       "      <td>US</td>\n",
       "      <td>2421.0</td>\n",
       "      <td>30000.00</td>\n",
       "      <td>8.0</td>\n",
       "      <td>60 days</td>\n",
       "    </tr>\n",
       "    <tr>\n",
       "      <th>2</th>\n",
       "      <td>1000004038</td>\n",
       "      <td>Where is Hank?</td>\n",
       "      <td>Narrative Film</td>\n",
       "      <td>Film &amp; Video</td>\n",
       "      <td>USD</td>\n",
       "      <td>2013-02-26</td>\n",
       "      <td>45000.0</td>\n",
       "      <td>2013-01-12 00:20:50</td>\n",
       "      <td>220.0</td>\n",
       "      <td>failed</td>\n",
       "      <td>3</td>\n",
       "      <td>US</td>\n",
       "      <td>220.0</td>\n",
       "      <td>45000.00</td>\n",
       "      <td>3.0</td>\n",
       "      <td>45 days</td>\n",
       "    </tr>\n",
       "    <tr>\n",
       "      <th>3</th>\n",
       "      <td>1000007540</td>\n",
       "      <td>ToshiCapital Rekordz Needs Help to Complete Album</td>\n",
       "      <td>Music</td>\n",
       "      <td>Music</td>\n",
       "      <td>USD</td>\n",
       "      <td>2012-04-16</td>\n",
       "      <td>5000.0</td>\n",
       "      <td>2012-03-17 03:24:11</td>\n",
       "      <td>1.0</td>\n",
       "      <td>failed</td>\n",
       "      <td>1</td>\n",
       "      <td>US</td>\n",
       "      <td>1.0</td>\n",
       "      <td>5000.00</td>\n",
       "      <td>7.0</td>\n",
       "      <td>30 days</td>\n",
       "    </tr>\n",
       "    <tr>\n",
       "      <th>4</th>\n",
       "      <td>1000011046</td>\n",
       "      <td>Community Film Project: The Art of Neighborhoo...</td>\n",
       "      <td>Film &amp; Video</td>\n",
       "      <td>Film &amp; Video</td>\n",
       "      <td>USD</td>\n",
       "      <td>2015-08-29</td>\n",
       "      <td>19500.0</td>\n",
       "      <td>2015-07-04 08:35:03</td>\n",
       "      <td>1283.0</td>\n",
       "      <td>canceled</td>\n",
       "      <td>14</td>\n",
       "      <td>US</td>\n",
       "      <td>1283.0</td>\n",
       "      <td>19500.00</td>\n",
       "      <td>8.0</td>\n",
       "      <td>56 days</td>\n",
       "    </tr>\n",
       "  </tbody>\n",
       "</table>\n",
       "</div>"
      ],
      "text/plain": [
       "           ID                                       project_name  \\\n",
       "0  1000002330                    The Songs of Adelaide & Abullah   \n",
       "1  1000003930      Greeting From Earth: ZGAC Arts Capsule For ET   \n",
       "2  1000004038                                     Where is Hank?   \n",
       "3  1000007540  ToshiCapital Rekordz Needs Help to Complete Album   \n",
       "4  1000011046  Community Film Project: The Art of Neighborhoo...   \n",
       "\n",
       "         category main_category currency   deadline  project_goal  \\\n",
       "0          Poetry    Publishing      GBP 2015-10-09        1000.0   \n",
       "1  Narrative Film  Film & Video      USD 2017-11-01       30000.0   \n",
       "2  Narrative Film  Film & Video      USD 2013-02-26       45000.0   \n",
       "3           Music         Music      USD 2012-04-16        5000.0   \n",
       "4    Film & Video  Film & Video      USD 2015-08-29       19500.0   \n",
       "\n",
       "             launched  pledged_amount     state  backers country  \\\n",
       "0 2015-08-11 12:12:28             0.0    failed        0      GB   \n",
       "1 2017-09-02 04:43:57          2421.0    failed       15      US   \n",
       "2 2013-01-12 00:20:50           220.0    failed        3      US   \n",
       "3 2012-03-17 03:24:11             1.0    failed        1      US   \n",
       "4 2015-07-04 08:35:03          1283.0  canceled       14      US   \n",
       "\n",
       "   pledged_amount_usd  project_goal_usd  words_in_name funding_period  \n",
       "0                 0.0           1533.95            6.0        59 days  \n",
       "1              2421.0          30000.00            8.0        60 days  \n",
       "2               220.0          45000.00            3.0        45 days  \n",
       "3                 1.0           5000.00            7.0        30 days  \n",
       "4              1283.0          19500.00            8.0        56 days  "
      ]
     },
     "execution_count": 16,
     "metadata": {},
     "output_type": "execute_result"
    }
   ],
   "source": [
    "df.head()"
   ]
  },
  {
   "cell_type": "markdown",
   "metadata": {},
   "source": [
    "### 1.6 Add avg money per backer column"
   ]
  },
  {
   "cell_type": "code",
   "execution_count": 17,
   "metadata": {},
   "outputs": [],
   "source": [
    "df[\"avg_amount_per_backer\"] = df[\"pledged_amount_usd\"] / df[\"backers\"]"
   ]
  },
  {
   "cell_type": "code",
   "execution_count": 18,
   "metadata": {},
   "outputs": [],
   "source": [
    "df = df.replace([np.inf, -np.inf], np.nan)"
   ]
  },
  {
   "cell_type": "code",
   "execution_count": 19,
   "metadata": {},
   "outputs": [],
   "source": [
    "df[\"avg_amount_per_backer\"] = df[\"avg_amount_per_backer\"].fillna(0)"
   ]
  },
  {
   "cell_type": "markdown",
   "metadata": {},
   "source": [
    "### 1.7 Add percentage funded"
   ]
  },
  {
   "cell_type": "code",
   "execution_count": 20,
   "metadata": {},
   "outputs": [],
   "source": [
    "df[\"percentage_funded\"] = df[\"pledged_amount\"] / df[\"project_goal\"]"
   ]
  },
  {
   "cell_type": "markdown",
   "metadata": {},
   "source": [
    "### 1.8 Fix contry values"
   ]
  },
  {
   "cell_type": "code",
   "execution_count": 21,
   "metadata": {},
   "outputs": [],
   "source": [
    "df['country'] = df['country'].replace({\"AT\": \"Austria\", \"AU\": \"Australia\", \"BE\": \"Belgium\", \"CA\": \"Canada\", \"CH\": \"Switzerland\", \"DE\": \"Germany\", \"DK\": \"Denmark\", \\\n",
    "\"ES\": \"Spain\", \"FR\": \"France\", \"GB\": \"United Kingdom\", \"HK\": \"Hong Kong\", \"IE\": \"Ireland\", \"IT\": \"Italy\", \"JP\": \"Japan\", \\\n",
    "\"LU\": \"Luxembourg\", \"MX\": \"Mexico\", \"N,0\\\"\": \"Unknown\", \"NL\": \"Netherlands\", \"NO\": \"Norway\", \"NZ\": \"New Zealand\", \"SE\": \"Sweden\", \\\n",
    "\"SG\": \"Singapore\", \"US\": \"United States\"})"
   ]
  },
  {
   "cell_type": "markdown",
   "metadata": {},
   "source": [
    "### 1.9 Fix order of columns"
   ]
  },
  {
   "cell_type": "code",
   "execution_count": 22,
   "metadata": {},
   "outputs": [
    {
     "data": {
      "text/plain": [
       "Index(['ID', 'project_name', 'category', 'main_category', 'currency',\n",
       "       'deadline', 'project_goal', 'launched', 'pledged_amount', 'state',\n",
       "       'backers', 'country', 'pledged_amount_usd', 'project_goal_usd',\n",
       "       'words_in_name', 'funding_period', 'avg_amount_per_backer',\n",
       "       'percentage_funded'],\n",
       "      dtype='object')"
      ]
     },
     "execution_count": 22,
     "metadata": {},
     "output_type": "execute_result"
    }
   ],
   "source": [
    "df.columns"
   ]
  },
  {
   "cell_type": "code",
   "execution_count": 23,
   "metadata": {},
   "outputs": [],
   "source": [
    "cols = ['ID',\n",
    " 'project_name',\n",
    " 'words_in_name',\n",
    " 'main_category',\n",
    " 'category',\n",
    " 'country',\n",
    " 'currency',\n",
    " 'launched',\n",
    " 'deadline',\n",
    " 'funding_period',\n",
    " 'project_goal',\n",
    " 'project_goal_usd',\n",
    " 'percentage_funded',\n",
    " 'pledged_amount',\n",
    " 'pledged_amount_usd',\n",
    " 'state',\n",
    " 'backers',\n",
    " 'avg_amount_per_backer']"
   ]
  },
  {
   "cell_type": "code",
   "execution_count": 24,
   "metadata": {},
   "outputs": [],
   "source": [
    "df = df[cols]"
   ]
  },
  {
   "cell_type": "markdown",
   "metadata": {},
   "source": [
    "## Ideas of quick analysis:\n",
    "\n",
    "2.0 General correlation analysis\n",
    "\n",
    "2.1 (turn \"success\" to 1 and \"fail\" + \"cancelled\" to 0)\n",
    "\n",
    "2.2 Create new Dataframes with only \"failed\", \"successful\", \"cancelled\" states\n",
    "\n",
    "2.3 Do individual corr\n",
    "\n",
    "2.4 Group by main_category % of success = ?\n",
    "\n",
    "2.5 Compare project duration with project success\n",
    "\n",
    "2.6 Is there seasonal effect on amount of money spent in Kickstarter\n",
    "\n",
    "2.7 What are the most used words in successful projects\n",
    "\n",
    "2.8 Funding goal negatively corr with campaign success\n",
    "\n",
    "2.9 Length of the campaign title negatively corr with campaign success"
   ]
  },
  {
   "cell_type": "markdown",
   "metadata": {},
   "source": [
    "### 2.0 General correlation analysis"
   ]
  },
  {
   "cell_type": "code",
   "execution_count": 25,
   "metadata": {},
   "outputs": [
    {
     "data": {
      "text/plain": [
       "<matplotlib.axes._subplots.AxesSubplot at 0x110e3f910>"
      ]
     },
     "execution_count": 25,
     "metadata": {},
     "output_type": "execute_result"
    },
    {
     "data": {
      "image/png": "[encoded data removed]",
      "text/plain": [
       "<Figure size 576x576 with 2 Axes>"
      ]
     },
     "metadata": {
      "needs_background": "light"
     },
     "output_type": "display_data"
    }
   ],
   "source": [
    "plt.figure(figsize=(8,8))\n",
    "corrMatrix = df.corr()\n",
    "sns.heatmap(corrMatrix, annot=True)"
   ]
  },
  {
   "cell_type": "markdown",
   "metadata": {},
   "source": [
    "### 2.1 (turn \"success\" to 1 and \"fail\" + \"cancelled\" to 0)"
   ]
  },
  {
   "cell_type": "code",
   "execution_count": 26,
   "metadata": {},
   "outputs": [],
   "source": [
    "df['state_numeric'] = df['state']"
   ]
  },
  {
   "cell_type": "code",
   "execution_count": 27,
   "metadata": {},
   "outputs": [],
   "source": [
    "df['state_numeric'] = df.state_numeric.map({\"successful\":1,\n",
    "                                            \"failed\":0,\n",
    "                                            \"canceled\":0\n",
    "})"
   ]
  },
  {
   "cell_type": "markdown",
   "metadata": {},
   "source": [
    "### 2.2 Create new DataFrames with only \"failed\", \"successful\", \"cancelled\" states"
   ]
  },
  {
   "cell_type": "code",
   "execution_count": 28,
   "metadata": {},
   "outputs": [],
   "source": [
    "df_suc = df.loc[df['state'] == \"successful\"]\n",
    "df_fail = df.loc[df['state'] == \"failed\"]\n",
    "df_can = df.loc[df['state'] == \"canceled\"]"
   ]
  },
  {
   "cell_type": "markdown",
   "metadata": {},
   "source": [
    "### 2.3 Do individual corr"
   ]
  },
  {
   "cell_type": "code",
   "execution_count": 29,
   "metadata": {},
   "outputs": [
    {
     "data": {
      "text/plain": [
       "<matplotlib.axes._subplots.AxesSubplot at 0x110e3fac0>"
      ]
     },
     "execution_count": 29,
     "metadata": {},
     "output_type": "execute_result"
    },
    {
     "data": {
      "image/png": "[encoded data removed]",
      "text/plain": [
       "<Figure size 576x576 with 2 Axes>"
      ]
     },
     "metadata": {
      "needs_background": "light"
     },
     "output_type": "display_data"
    }
   ],
   "source": [
    "plt.figure(figsize=(8,8))\n",
    "corrMatrix = df_suc.corr()\n",
    "sns.heatmap(corrMatrix, annot=True)"
   ]
  },
  {
   "cell_type": "code",
   "execution_count": 30,
   "metadata": {},
   "outputs": [
    {
     "data": {
      "text/plain": [
       "<matplotlib.axes._subplots.AxesSubplot at 0x125455220>"
      ]
     },
     "execution_count": 30,
     "metadata": {},
     "output_type": "execute_result"
    },
    {
     "data": {
      "image/png": "[encoded data removed]",
      "text/plain": [
       "<Figure size 576x576 with 2 Axes>"
      ]
     },
     "metadata": {
      "needs_background": "light"
     },
     "output_type": "display_data"
    }
   ],
   "source": [
    "plt.figure(figsize=(8,8))\n",
    "corrMatrix = df_fail.corr()\n",
    "sns.heatmap(corrMatrix, annot=True)"
   ]
  },
  {
   "cell_type": "code",
   "execution_count": 31,
   "metadata": {},
   "outputs": [
    {
     "data": {
      "text/plain": [
       "<matplotlib.axes._subplots.AxesSubplot at 0x12621adf0>"
      ]
     },
     "execution_count": 31,
     "metadata": {},
     "output_type": "execute_result"
    },
    {
     "data": {
      "image/png": "[encoded data removed]",
      "text/plain": [
       "<Figure size 576x576 with 2 Axes>"
      ]
     },
     "metadata": {
      "needs_background": "light"
     },
     "output_type": "display_data"
    }
   ],
   "source": [
    "plt.figure(figsize=(8,8))\n",
    "corrMatrix = df_can.corr()\n",
    "sns.heatmap(corrMatrix, annot=True)"
   ]
  },
  {
   "cell_type": "markdown",
   "metadata": {},
   "source": [
    "### 2.4 Group by main_category % of success = ?"
   ]
  },
  {
   "cell_type": "code",
   "execution_count": 32,
   "metadata": {},
   "outputs": [
    {
     "data": {
      "text/html": [
       "<div>\n",
       "<style scoped>\n",
       "    .dataframe tbody tr th:only-of-type {\n",
       "        vertical-align: middle;\n",
       "    }\n",
       "\n",
       "    .dataframe tbody tr th {\n",
       "        vertical-align: top;\n",
       "    }\n",
       "\n",
       "    .dataframe thead th {\n",
       "        text-align: right;\n",
       "    }\n",
       "</style>\n",
       "<table border=\"1\" class=\"dataframe\">\n",
       "  <thead>\n",
       "    <tr style=\"text-align: right;\">\n",
       "      <th></th>\n",
       "      <th>ID</th>\n",
       "      <th>state_numeric</th>\n",
       "      <th>success_rate</th>\n",
       "    </tr>\n",
       "    <tr>\n",
       "      <th>main_category</th>\n",
       "      <th></th>\n",
       "      <th></th>\n",
       "      <th></th>\n",
       "    </tr>\n",
       "  </thead>\n",
       "  <tbody>\n",
       "    <tr>\n",
       "      <th>Technology</th>\n",
       "      <td>31765</td>\n",
       "      <td>6434</td>\n",
       "      <td>0.202550</td>\n",
       "    </tr>\n",
       "    <tr>\n",
       "      <th>Journalism</th>\n",
       "      <td>4672</td>\n",
       "      <td>1012</td>\n",
       "      <td>0.216610</td>\n",
       "    </tr>\n",
       "    <tr>\n",
       "      <th>Crafts</th>\n",
       "      <td>8661</td>\n",
       "      <td>2115</td>\n",
       "      <td>0.244198</td>\n",
       "    </tr>\n",
       "    <tr>\n",
       "      <th>Fashion</th>\n",
       "      <td>22425</td>\n",
       "      <td>5593</td>\n",
       "      <td>0.249409</td>\n",
       "    </tr>\n",
       "    <tr>\n",
       "      <th>Food</th>\n",
       "      <td>24265</td>\n",
       "      <td>6085</td>\n",
       "      <td>0.250773</td>\n",
       "    </tr>\n",
       "    <tr>\n",
       "      <th>Photography</th>\n",
       "      <td>10675</td>\n",
       "      <td>3305</td>\n",
       "      <td>0.309602</td>\n",
       "    </tr>\n",
       "    <tr>\n",
       "      <th>Publishing</th>\n",
       "      <td>39047</td>\n",
       "      <td>12300</td>\n",
       "      <td>0.315005</td>\n",
       "    </tr>\n",
       "    <tr>\n",
       "      <th>Design</th>\n",
       "      <td>29516</td>\n",
       "      <td>10550</td>\n",
       "      <td>0.357433</td>\n",
       "    </tr>\n",
       "    <tr>\n",
       "      <th>Games</th>\n",
       "      <td>34723</td>\n",
       "      <td>12518</td>\n",
       "      <td>0.360510</td>\n",
       "    </tr>\n",
       "    <tr>\n",
       "      <th>Film &amp; Video</th>\n",
       "      <td>62282</td>\n",
       "      <td>23623</td>\n",
       "      <td>0.379291</td>\n",
       "    </tr>\n",
       "    <tr>\n",
       "      <th>Art</th>\n",
       "      <td>27863</td>\n",
       "      <td>11510</td>\n",
       "      <td>0.413093</td>\n",
       "    </tr>\n",
       "    <tr>\n",
       "      <th>Music</th>\n",
       "      <td>49254</td>\n",
       "      <td>24197</td>\n",
       "      <td>0.491270</td>\n",
       "    </tr>\n",
       "    <tr>\n",
       "      <th>Comics</th>\n",
       "      <td>10720</td>\n",
       "      <td>5842</td>\n",
       "      <td>0.544963</td>\n",
       "    </tr>\n",
       "    <tr>\n",
       "      <th>Theater</th>\n",
       "      <td>10850</td>\n",
       "      <td>6534</td>\n",
       "      <td>0.602212</td>\n",
       "    </tr>\n",
       "    <tr>\n",
       "      <th>Dance</th>\n",
       "      <td>3736</td>\n",
       "      <td>2338</td>\n",
       "      <td>0.625803</td>\n",
       "    </tr>\n",
       "  </tbody>\n",
       "</table>\n",
       "</div>"
      ],
      "text/plain": [
       "                  ID  state_numeric  success_rate\n",
       "main_category                                    \n",
       "Technology     31765           6434      0.202550\n",
       "Journalism      4672           1012      0.216610\n",
       "Crafts          8661           2115      0.244198\n",
       "Fashion        22425           5593      0.249409\n",
       "Food           24265           6085      0.250773\n",
       "Photography    10675           3305      0.309602\n",
       "Publishing     39047          12300      0.315005\n",
       "Design         29516          10550      0.357433\n",
       "Games          34723          12518      0.360510\n",
       "Film & Video   62282          23623      0.379291\n",
       "Art            27863          11510      0.413093\n",
       "Music          49254          24197      0.491270\n",
       "Comics         10720           5842      0.544963\n",
       "Theater        10850           6534      0.602212\n",
       "Dance           3736           2338      0.625803"
      ]
     },
     "execution_count": 32,
     "metadata": {},
     "output_type": "execute_result"
    }
   ],
   "source": [
    "cat_df = df.groupby(\"main_category\").agg({\"ID\": \"count\", \"state_numeric\": \"sum\"})\n",
    "cat_df[\"success_rate\"] = cat_df[\"state_numeric\"] / cat_df[\"ID\"]\n",
    "cat_df = cat_df.sort_values(by=[\"success_rate\"])\n",
    "cat_df"
   ]
  },
  {
   "cell_type": "markdown",
   "metadata": {},
   "source": [
    "visualize the differences, sort of predict? deep dive\n",
    "use linear regression\n",
    "sig suff.\n",
    "get dummies - boolean column"
   ]
  },
  {
   "cell_type": "markdown",
   "metadata": {},
   "source": [
    "### 2.5 Compare project duration with project success"
   ]
  },
  {
   "cell_type": "code",
   "execution_count": 33,
   "metadata": {},
   "outputs": [],
   "source": [
    "df[\"funding_period\"] = df.funding_period.dt.days"
   ]
  },
  {
   "cell_type": "markdown",
   "metadata": {},
   "source": [
    "##### Fixing funding_period Outliers manually"
   ]
  },
  {
   "cell_type": "code",
   "execution_count": 34,
   "metadata": {},
   "outputs": [
    {
     "data": {
      "text/plain": [
       "14867"
      ]
     },
     "execution_count": 34,
     "metadata": {},
     "output_type": "execute_result"
    }
   ],
   "source": [
    "df[\"funding_period\"].max()"
   ]
  },
  {
   "cell_type": "code",
   "execution_count": 35,
   "metadata": {},
   "outputs": [
    {
     "data": {
      "text/html": [
       "<div>\n",
       "<style scoped>\n",
       "    .dataframe tbody tr th:only-of-type {\n",
       "        vertical-align: middle;\n",
       "    }\n",
       "\n",
       "    .dataframe tbody tr th {\n",
       "        vertical-align: top;\n",
       "    }\n",
       "\n",
       "    .dataframe thead th {\n",
       "        text-align: right;\n",
       "    }\n",
       "</style>\n",
       "<table border=\"1\" class=\"dataframe\">\n",
       "  <thead>\n",
       "    <tr style=\"text-align: right;\">\n",
       "      <th></th>\n",
       "      <th>ID</th>\n",
       "      <th>project_name</th>\n",
       "      <th>words_in_name</th>\n",
       "      <th>main_category</th>\n",
       "      <th>category</th>\n",
       "      <th>country</th>\n",
       "      <th>currency</th>\n",
       "      <th>launched</th>\n",
       "      <th>deadline</th>\n",
       "      <th>funding_period</th>\n",
       "      <th>project_goal</th>\n",
       "      <th>project_goal_usd</th>\n",
       "      <th>percentage_funded</th>\n",
       "      <th>pledged_amount</th>\n",
       "      <th>pledged_amount_usd</th>\n",
       "      <th>state</th>\n",
       "      <th>backers</th>\n",
       "      <th>avg_amount_per_backer</th>\n",
       "      <th>state_numeric</th>\n",
       "    </tr>\n",
       "  </thead>\n",
       "  <tbody>\n",
       "    <tr>\n",
       "      <th>247913</th>\n",
       "      <td>330942060</td>\n",
       "      <td>Help RIZ Make A Charity Album: 8 Songs, 8 Caus...</td>\n",
       "      <td>16.0</td>\n",
       "      <td>Music</td>\n",
       "      <td>Music</td>\n",
       "      <td>United States</td>\n",
       "      <td>USD</td>\n",
       "      <td>1970-01-01 01:00:00</td>\n",
       "      <td>2010-05-04</td>\n",
       "      <td>14733</td>\n",
       "      <td>10000.0</td>\n",
       "      <td>10000.0</td>\n",
       "      <td>0.0</td>\n",
       "      <td>0.0</td>\n",
       "      <td>0.0</td>\n",
       "      <td>canceled</td>\n",
       "      <td>0</td>\n",
       "      <td>0.0</td>\n",
       "      <td>0</td>\n",
       "    </tr>\n",
       "  </tbody>\n",
       "</table>\n",
       "</div>"
      ],
      "text/plain": [
       "               ID                                       project_name  \\\n",
       "247913  330942060  Help RIZ Make A Charity Album: 8 Songs, 8 Caus...   \n",
       "\n",
       "        words_in_name main_category category        country currency  \\\n",
       "247913           16.0         Music    Music  United States      USD   \n",
       "\n",
       "                  launched   deadline  funding_period  project_goal  \\\n",
       "247913 1970-01-01 01:00:00 2010-05-04           14733       10000.0   \n",
       "\n",
       "        project_goal_usd  percentage_funded  pledged_amount  \\\n",
       "247913           10000.0                0.0             0.0   \n",
       "\n",
       "        pledged_amount_usd     state  backers  avg_amount_per_backer  \\\n",
       "247913                 0.0  canceled        0                    0.0   \n",
       "\n",
       "        state_numeric  \n",
       "247913              0  "
      ]
     },
     "execution_count": 35,
     "metadata": {},
     "output_type": "execute_result"
    }
   ],
   "source": [
    "df.loc[df[\"funding_period\"] == 14733]"
   ]
  },
  {
   "cell_type": "code",
   "execution_count": 36,
   "metadata": {},
   "outputs": [],
   "source": [
    "df = df.drop(273779)\n",
    "df = df.drop(247913)\n",
    "df = df.drop(75397)\n",
    "df = df.drop(94579)\n",
    "df = df.drop(48147)\n",
    "df = df.drop(2842)"
   ]
  },
  {
   "cell_type": "markdown",
   "metadata": {},
   "source": [
    "### 2.6 Is there seasonal effect on amount of money spent in Kickstarter"
   ]
  },
  {
   "cell_type": "code",
   "execution_count": 37,
   "metadata": {},
   "outputs": [],
   "source": [
    "df[\"launch_month\"] = df[\"launched\"].dt.strftime(\"%m\")"
   ]
  },
  {
   "cell_type": "code",
   "execution_count": 38,
   "metadata": {},
   "outputs": [
    {
     "data": {
      "image/png": "[encoded data removed]",
      "text/plain": [
       "<Figure size 432x288 with 1 Axes>"
      ]
     },
     "metadata": {
      "needs_background": "light"
     },
     "output_type": "display_data"
    }
   ],
   "source": [
    "ax = sns.lineplot(x=\"launch_month\", y=\"state_numeric\", data=df)"
   ]
  },
  {
   "cell_type": "markdown",
   "metadata": {},
   "source": [
    "year over year -> show differences\n",
    "timeseries analysis, auto regression, moving avg, or combo!"
   ]
  },
  {
   "cell_type": "markdown",
   "metadata": {},
   "source": [
    "### 2.7 What are the most used words in successful projects"
   ]
  },
  {
   "cell_type": "markdown",
   "metadata": {},
   "source": [
    "Resetting indexes:"
   ]
  },
  {
   "cell_type": "code",
   "execution_count": 39,
   "metadata": {},
   "outputs": [],
   "source": [
    "df_fail = df_fail.reset_index(drop=True)"
   ]
  },
  {
   "cell_type": "code",
   "execution_count": 40,
   "metadata": {},
   "outputs": [],
   "source": [
    "df_suc = df_suc.reset_index(drop=True)"
   ]
  },
  {
   "cell_type": "code",
   "execution_count": 41,
   "metadata": {},
   "outputs": [],
   "source": [
    "df_can = df_can.reset_index(drop=True)"
   ]
  },
  {
   "cell_type": "code",
   "execution_count": 42,
   "metadata": {},
   "outputs": [
    {
     "data": {
      "text/plain": [
       "the            39259\n",
       "-              21828\n",
       "a              20569\n",
       "of             14023\n",
       "and             8874\n",
       "for             8151\n",
       "&               7226\n",
       "to              7193\n",
       "in              6709\n",
       "new             6689\n",
       "album           5553\n",
       "film            5188\n",
       "by              4742\n",
       "project         3586\n",
       "book            3433\n",
       "your            2962\n",
       "an              2961\n",
       "with            2915\n",
       "art             2902\n",
       "short           2901\n",
       "debut           2831\n",
       "game            2779\n",
       "first           2766\n",
       "on              2705\n",
       "music           2474\n",
       "help            2439\n",
       "from            2264\n",
       "ep              1963\n",
       "at              1878\n",
       "is              1828\n",
       "documentary     1671\n",
       "|               1657\n",
       "my              1625\n",
       "you             1607\n",
       "tour            1256\n",
       "make            1249\n",
       "series          1244\n",
       "video           1243\n",
       "album!          1241\n",
       "about           1223\n",
       "cards           1219\n",
       "one             1195\n",
       "cd              1171\n",
       "festival        1166\n",
       "record          1155\n",
       "love            1140\n",
       "world           1111\n",
       "our             1103\n",
       "2               1093\n",
       "i               1083\n",
       "card            1065\n",
       "novel           1052\n",
       "life            1002\n",
       ":                995\n",
       "story            989\n",
       "playing          986\n",
       "studio           944\n",
       "dance            942\n",
       "edition          916\n",
       "all              903\n",
       "dtype: int64"
      ]
     },
     "execution_count": 42,
     "metadata": {},
     "output_type": "execute_result"
    }
   ],
   "source": [
    "pd.Series(' '.join(df_suc['project_name']).lower().split()).value_counts()[:60]"
   ]
  },
  {
   "cell_type": "markdown",
   "metadata": {},
   "source": [
    "##### What about failed projects"
   ]
  },
  {
   "cell_type": "code",
   "execution_count": 43,
   "metadata": {},
   "outputs": [],
   "source": [
    "df_fail = df_fail.drop(86800)\n",
    "df_fail = df_fail.drop(160317)\n",
    "df_fail = df_fail.drop(176947)"
   ]
  },
  {
   "cell_type": "code",
   "execution_count": 44,
   "metadata": {
    "scrolled": true
   },
   "outputs": [
    {
     "data": {
      "text/plain": [
       "the            50618\n",
       "-              25300\n",
       "a              23661\n",
       "of             19067\n",
       "and            13454\n",
       "for            12679\n",
       "to             11017\n",
       "in              8894\n",
       "&               8453\n",
       "new             5480\n",
       "project         5367\n",
       "your            5032\n",
       "with            4507\n",
       "book            4291\n",
       "film            4140\n",
       "by              4123\n",
       "game            3859\n",
       "album           3832\n",
       "my              3798\n",
       "art             3781\n",
       "on              3665\n",
       "music           3508\n",
       "an              3373\n",
       "help            3047\n",
       "first           2797\n",
       "from            2651\n",
       "you             2384\n",
       "life            2352\n",
       "is              2264\n",
       "world           2151\n",
       "app             2136\n",
       "series          2129\n",
       "video           1891\n",
       "i               1835\n",
       "documentary     1828\n",
       "short           1758\n",
       "love            1673\n",
       "food            1657\n",
       "one             1644\n",
       "at              1596\n",
       "story           1584\n",
       "debut           1544\n",
       "all             1496\n",
       "our             1489\n",
       "novel           1474\n",
       "me              1413\n",
       "make            1387\n",
       "|               1387\n",
       "clothing        1377\n",
       "that            1316\n",
       "ep              1311\n",
       "be              1271\n",
       "show            1263\n",
       "tour            1252\n",
       "\"the            1243\n",
       "about           1236\n",
       "it              1185\n",
       ":               1183\n",
       "get             1176\n",
       "movie           1151\n",
       "dtype: int64"
      ]
     },
     "execution_count": 44,
     "metadata": {},
     "output_type": "execute_result"
    }
   ],
   "source": [
    "pd.Series(' '.join(df_fail['project_name']).lower().split()).value_counts()[:60]"
   ]
  },
  {
   "cell_type": "markdown",
   "metadata": {},
   "source": [
    "##### What about cancelled projects"
   ]
  },
  {
   "cell_type": "code",
   "execution_count": 45,
   "metadata": {
    "scrolled": true
   },
   "outputs": [
    {
     "data": {
      "text/plain": [
       "(canceled)     23099\n",
       "the             9940\n",
       "-               6094\n",
       "a               4671\n",
       "of              3760\n",
       "for             2644\n",
       "and             2497\n",
       "to              2011\n",
       "&               1831\n",
       "in              1639\n",
       "game            1447\n",
       "your            1219\n",
       "new             1037\n",
       "with             981\n",
       "project          972\n",
       "by               841\n",
       "film             791\n",
       "book             747\n",
       "first            670\n",
       "an               662\n",
       "on               660\n",
       "my               655\n",
       "album            609\n",
       "art              606\n",
       "music            569\n",
       "help             546\n",
       "you              523\n",
       "|                473\n",
       "from             469\n",
       "card             444\n",
       "world            438\n",
       "life             432\n",
       "app              412\n",
       "is               400\n",
       "cards            387\n",
       "series           384\n",
       "one              354\n",
       "playing          340\n",
       "short            334\n",
       "video            327\n",
       ":                322\n",
       "i                319\n",
       "documentary      311\n",
       "at               308\n",
       "novel            302\n",
       "world's          298\n",
       "all              292\n",
       "make             282\n",
       "love             280\n",
       "that             280\n",
       "dtype: int64"
      ]
     },
     "execution_count": 45,
     "metadata": {},
     "output_type": "execute_result"
    }
   ],
   "source": [
    "pd.Series(' '.join(df_can['project_name']).lower().split()).value_counts()[:50]"
   ]
  },
  {
   "cell_type": "markdown",
   "metadata": {},
   "source": [
    "### 2.8 Funding goal negatively corr with campaign success"
   ]
  },
  {
   "cell_type": "code",
   "execution_count": 66,
   "metadata": {},
   "outputs": [
    {
     "data": {
      "image/png": "[encoded data removed]",
      "text/plain": [
       "<Figure size 432x288 with 1 Axes>"
      ]
     },
     "metadata": {
      "needs_background": "light"
     },
     "output_type": "display_data"
    }
   ],
   "source": [
    "ax = sns.regplot(x=\"project_goal_usd\", y=\"state_numeric\", data=df)"
   ]
  },
  {
   "cell_type": "code",
   "execution_count": null,
   "metadata": {},
   "outputs": [],
   "source": [
    "do a non-normalization, since usd are the same, check it out, use OLS to check stst. sig."
   ]
  },
  {
   "cell_type": "markdown",
   "metadata": {},
   "source": [
    "### 2.9 Length of the campaign title negatively corr with campaign success"
   ]
  },
  {
   "cell_type": "code",
   "execution_count": 68,
   "metadata": {},
   "outputs": [
    {
     "data": {
      "image/png": "[encoded data removed]",
      "text/plain": [
       "<Figure size 432x288 with 1 Axes>"
      ]
     },
     "metadata": {
      "needs_background": "light"
     },
     "output_type": "display_data"
    }
   ],
   "source": [
    "ax = sns.regplot(x=\"words_in_name\", y=\"state_numeric\", data=df)"
   ]
  },
  {
   "cell_type": "code",
   "execution_count": 70,
   "metadata": {},
   "outputs": [
    {
     "data": {
      "text/html": [
       "<div>\n",
       "<style scoped>\n",
       "    .dataframe tbody tr th:only-of-type {\n",
       "        vertical-align: middle;\n",
       "    }\n",
       "\n",
       "    .dataframe tbody tr th {\n",
       "        vertical-align: top;\n",
       "    }\n",
       "\n",
       "    .dataframe thead th {\n",
       "        text-align: right;\n",
       "    }\n",
       "</style>\n",
       "<table border=\"1\" class=\"dataframe\">\n",
       "  <thead>\n",
       "    <tr style=\"text-align: right;\">\n",
       "      <th></th>\n",
       "      <th>ID</th>\n",
       "      <th>project_name</th>\n",
       "      <th>words_in_name</th>\n",
       "      <th>main_category</th>\n",
       "      <th>category</th>\n",
       "      <th>country</th>\n",
       "      <th>currency</th>\n",
       "      <th>launched</th>\n",
       "      <th>deadline</th>\n",
       "      <th>funding_period</th>\n",
       "      <th>project_goal</th>\n",
       "      <th>project_goal_usd</th>\n",
       "      <th>percentage_funded</th>\n",
       "      <th>pledged_amount</th>\n",
       "      <th>pledged_amount_usd</th>\n",
       "      <th>state</th>\n",
       "      <th>backers</th>\n",
       "      <th>avg_amount_per_backer</th>\n",
       "      <th>state_numeric</th>\n",
       "      <th>launch_month</th>\n",
       "    </tr>\n",
       "  </thead>\n",
       "  <tbody>\n",
       "    <tr>\n",
       "      <th>0</th>\n",
       "      <td>1000002330</td>\n",
       "      <td>The Songs of Adelaide &amp; Abullah</td>\n",
       "      <td>6.0</td>\n",
       "      <td>Publishing</td>\n",
       "      <td>Poetry</td>\n",
       "      <td>United Kingdom</td>\n",
       "      <td>GBP</td>\n",
       "      <td>2015-08-11 12:12:28</td>\n",
       "      <td>2015-10-09</td>\n",
       "      <td>59</td>\n",
       "      <td>1000.0</td>\n",
       "      <td>1533.95</td>\n",
       "      <td>0.000000</td>\n",
       "      <td>0.0</td>\n",
       "      <td>0.0</td>\n",
       "      <td>failed</td>\n",
       "      <td>0</td>\n",
       "      <td>0.000000</td>\n",
       "      <td>0</td>\n",
       "      <td>08</td>\n",
       "    </tr>\n",
       "    <tr>\n",
       "      <th>1</th>\n",
       "      <td>1000003930</td>\n",
       "      <td>Greeting From Earth: ZGAC Arts Capsule For ET</td>\n",
       "      <td>8.0</td>\n",
       "      <td>Film &amp; Video</td>\n",
       "      <td>Narrative Film</td>\n",
       "      <td>United States</td>\n",
       "      <td>USD</td>\n",
       "      <td>2017-09-02 04:43:57</td>\n",
       "      <td>2017-11-01</td>\n",
       "      <td>60</td>\n",
       "      <td>30000.0</td>\n",
       "      <td>30000.00</td>\n",
       "      <td>0.080700</td>\n",
       "      <td>2421.0</td>\n",
       "      <td>2421.0</td>\n",
       "      <td>failed</td>\n",
       "      <td>15</td>\n",
       "      <td>161.400000</td>\n",
       "      <td>0</td>\n",
       "      <td>09</td>\n",
       "    </tr>\n",
       "    <tr>\n",
       "      <th>2</th>\n",
       "      <td>1000004038</td>\n",
       "      <td>Where is Hank?</td>\n",
       "      <td>3.0</td>\n",
       "      <td>Film &amp; Video</td>\n",
       "      <td>Narrative Film</td>\n",
       "      <td>United States</td>\n",
       "      <td>USD</td>\n",
       "      <td>2013-01-12 00:20:50</td>\n",
       "      <td>2013-02-26</td>\n",
       "      <td>45</td>\n",
       "      <td>45000.0</td>\n",
       "      <td>45000.00</td>\n",
       "      <td>0.004889</td>\n",
       "      <td>220.0</td>\n",
       "      <td>220.0</td>\n",
       "      <td>failed</td>\n",
       "      <td>3</td>\n",
       "      <td>73.333333</td>\n",
       "      <td>0</td>\n",
       "      <td>01</td>\n",
       "    </tr>\n",
       "    <tr>\n",
       "      <th>3</th>\n",
       "      <td>1000007540</td>\n",
       "      <td>ToshiCapital Rekordz Needs Help to Complete Album</td>\n",
       "      <td>7.0</td>\n",
       "      <td>Music</td>\n",
       "      <td>Music</td>\n",
       "      <td>United States</td>\n",
       "      <td>USD</td>\n",
       "      <td>2012-03-17 03:24:11</td>\n",
       "      <td>2012-04-16</td>\n",
       "      <td>30</td>\n",
       "      <td>5000.0</td>\n",
       "      <td>5000.00</td>\n",
       "      <td>0.000200</td>\n",
       "      <td>1.0</td>\n",
       "      <td>1.0</td>\n",
       "      <td>failed</td>\n",
       "      <td>1</td>\n",
       "      <td>1.000000</td>\n",
       "      <td>0</td>\n",
       "      <td>03</td>\n",
       "    </tr>\n",
       "    <tr>\n",
       "      <th>4</th>\n",
       "      <td>1000011046</td>\n",
       "      <td>Community Film Project: The Art of Neighborhoo...</td>\n",
       "      <td>8.0</td>\n",
       "      <td>Film &amp; Video</td>\n",
       "      <td>Film &amp; Video</td>\n",
       "      <td>United States</td>\n",
       "      <td>USD</td>\n",
       "      <td>2015-07-04 08:35:03</td>\n",
       "      <td>2015-08-29</td>\n",
       "      <td>56</td>\n",
       "      <td>19500.0</td>\n",
       "      <td>19500.00</td>\n",
       "      <td>0.065795</td>\n",
       "      <td>1283.0</td>\n",
       "      <td>1283.0</td>\n",
       "      <td>canceled</td>\n",
       "      <td>14</td>\n",
       "      <td>91.642857</td>\n",
       "      <td>0</td>\n",
       "      <td>07</td>\n",
       "    </tr>\n",
       "    <tr>\n",
       "      <th>...</th>\n",
       "      <td>...</td>\n",
       "      <td>...</td>\n",
       "      <td>...</td>\n",
       "      <td>...</td>\n",
       "      <td>...</td>\n",
       "      <td>...</td>\n",
       "      <td>...</td>\n",
       "      <td>...</td>\n",
       "      <td>...</td>\n",
       "      <td>...</td>\n",
       "      <td>...</td>\n",
       "      <td>...</td>\n",
       "      <td>...</td>\n",
       "      <td>...</td>\n",
       "      <td>...</td>\n",
       "      <td>...</td>\n",
       "      <td>...</td>\n",
       "      <td>...</td>\n",
       "      <td>...</td>\n",
       "      <td>...</td>\n",
       "    </tr>\n",
       "    <tr>\n",
       "      <th>378656</th>\n",
       "      <td>999976400</td>\n",
       "      <td>ChknTruk Nationwide Charity Drive 2014 (Canceled)</td>\n",
       "      <td>6.0</td>\n",
       "      <td>Film &amp; Video</td>\n",
       "      <td>Documentary</td>\n",
       "      <td>United States</td>\n",
       "      <td>USD</td>\n",
       "      <td>2014-09-17 02:35:30</td>\n",
       "      <td>2014-10-17</td>\n",
       "      <td>30</td>\n",
       "      <td>50000.0</td>\n",
       "      <td>50000.00</td>\n",
       "      <td>0.000500</td>\n",
       "      <td>25.0</td>\n",
       "      <td>25.0</td>\n",
       "      <td>canceled</td>\n",
       "      <td>1</td>\n",
       "      <td>25.000000</td>\n",
       "      <td>0</td>\n",
       "      <td>09</td>\n",
       "    </tr>\n",
       "    <tr>\n",
       "      <th>378657</th>\n",
       "      <td>999977640</td>\n",
       "      <td>The Tribe</td>\n",
       "      <td>2.0</td>\n",
       "      <td>Film &amp; Video</td>\n",
       "      <td>Narrative Film</td>\n",
       "      <td>United States</td>\n",
       "      <td>USD</td>\n",
       "      <td>2011-06-22 03:35:14</td>\n",
       "      <td>2011-07-19</td>\n",
       "      <td>27</td>\n",
       "      <td>1500.0</td>\n",
       "      <td>1500.00</td>\n",
       "      <td>0.103333</td>\n",
       "      <td>155.0</td>\n",
       "      <td>155.0</td>\n",
       "      <td>failed</td>\n",
       "      <td>5</td>\n",
       "      <td>31.000000</td>\n",
       "      <td>0</td>\n",
       "      <td>06</td>\n",
       "    </tr>\n",
       "    <tr>\n",
       "      <th>378658</th>\n",
       "      <td>999986353</td>\n",
       "      <td>Walls of Remedy- New lesbian Romantic Comedy f...</td>\n",
       "      <td>11.0</td>\n",
       "      <td>Film &amp; Video</td>\n",
       "      <td>Narrative Film</td>\n",
       "      <td>United States</td>\n",
       "      <td>USD</td>\n",
       "      <td>2010-07-01 19:40:30</td>\n",
       "      <td>2010-08-16</td>\n",
       "      <td>46</td>\n",
       "      <td>15000.0</td>\n",
       "      <td>15000.00</td>\n",
       "      <td>0.001333</td>\n",
       "      <td>20.0</td>\n",
       "      <td>20.0</td>\n",
       "      <td>failed</td>\n",
       "      <td>1</td>\n",
       "      <td>20.000000</td>\n",
       "      <td>0</td>\n",
       "      <td>07</td>\n",
       "    </tr>\n",
       "    <tr>\n",
       "      <th>378659</th>\n",
       "      <td>999987933</td>\n",
       "      <td>BioDefense Education Kit</td>\n",
       "      <td>3.0</td>\n",
       "      <td>Technology</td>\n",
       "      <td>Technology</td>\n",
       "      <td>United States</td>\n",
       "      <td>USD</td>\n",
       "      <td>2016-01-13 18:13:53</td>\n",
       "      <td>2016-02-13</td>\n",
       "      <td>31</td>\n",
       "      <td>15000.0</td>\n",
       "      <td>15000.00</td>\n",
       "      <td>0.013333</td>\n",
       "      <td>200.0</td>\n",
       "      <td>200.0</td>\n",
       "      <td>failed</td>\n",
       "      <td>6</td>\n",
       "      <td>33.333333</td>\n",
       "      <td>0</td>\n",
       "      <td>01</td>\n",
       "    </tr>\n",
       "    <tr>\n",
       "      <th>378660</th>\n",
       "      <td>999988282</td>\n",
       "      <td>Nou Renmen Ayiti!  We Love Haiti!</td>\n",
       "      <td>7.0</td>\n",
       "      <td>Art</td>\n",
       "      <td>Performance Art</td>\n",
       "      <td>United States</td>\n",
       "      <td>USD</td>\n",
       "      <td>2011-07-19 09:07:47</td>\n",
       "      <td>2011-08-16</td>\n",
       "      <td>28</td>\n",
       "      <td>2000.0</td>\n",
       "      <td>2000.00</td>\n",
       "      <td>0.262000</td>\n",
       "      <td>524.0</td>\n",
       "      <td>524.0</td>\n",
       "      <td>failed</td>\n",
       "      <td>17</td>\n",
       "      <td>30.823529</td>\n",
       "      <td>0</td>\n",
       "      <td>07</td>\n",
       "    </tr>\n",
       "  </tbody>\n",
       "</table>\n",
       "<p>370448 rows × 20 columns</p>\n",
       "</div>"
      ],
      "text/plain": [
       "                ID                                       project_name  \\\n",
       "0       1000002330                    The Songs of Adelaide & Abullah   \n",
       "1       1000003930      Greeting From Earth: ZGAC Arts Capsule For ET   \n",
       "2       1000004038                                     Where is Hank?   \n",
       "3       1000007540  ToshiCapital Rekordz Needs Help to Complete Album   \n",
       "4       1000011046  Community Film Project: The Art of Neighborhoo...   \n",
       "...            ...                                                ...   \n",
       "378656   999976400  ChknTruk Nationwide Charity Drive 2014 (Canceled)   \n",
       "378657   999977640                                          The Tribe   \n",
       "378658   999986353  Walls of Remedy- New lesbian Romantic Comedy f...   \n",
       "378659   999987933                           BioDefense Education Kit   \n",
       "378660   999988282                  Nou Renmen Ayiti!  We Love Haiti!   \n",
       "\n",
       "        words_in_name main_category         category         country currency  \\\n",
       "0                 6.0    Publishing           Poetry  United Kingdom      GBP   \n",
       "1                 8.0  Film & Video   Narrative Film   United States      USD   \n",
       "2                 3.0  Film & Video   Narrative Film   United States      USD   \n",
       "3                 7.0         Music            Music   United States      USD   \n",
       "4                 8.0  Film & Video     Film & Video   United States      USD   \n",
       "...               ...           ...              ...             ...      ...   \n",
       "378656            6.0  Film & Video      Documentary   United States      USD   \n",
       "378657            2.0  Film & Video   Narrative Film   United States      USD   \n",
       "378658           11.0  Film & Video   Narrative Film   United States      USD   \n",
       "378659            3.0    Technology       Technology   United States      USD   \n",
       "378660            7.0           Art  Performance Art   United States      USD   \n",
       "\n",
       "                  launched   deadline  funding_period  project_goal  \\\n",
       "0      2015-08-11 12:12:28 2015-10-09              59        1000.0   \n",
       "1      2017-09-02 04:43:57 2017-11-01              60       30000.0   \n",
       "2      2013-01-12 00:20:50 2013-02-26              45       45000.0   \n",
       "3      2012-03-17 03:24:11 2012-04-16              30        5000.0   \n",
       "4      2015-07-04 08:35:03 2015-08-29              56       19500.0   \n",
       "...                    ...        ...             ...           ...   \n",
       "378656 2014-09-17 02:35:30 2014-10-17              30       50000.0   \n",
       "378657 2011-06-22 03:35:14 2011-07-19              27        1500.0   \n",
       "378658 2010-07-01 19:40:30 2010-08-16              46       15000.0   \n",
       "378659 2016-01-13 18:13:53 2016-02-13              31       15000.0   \n",
       "378660 2011-07-19 09:07:47 2011-08-16              28        2000.0   \n",
       "\n",
       "        project_goal_usd  percentage_funded  pledged_amount  \\\n",
       "0                1533.95           0.000000             0.0   \n",
       "1               30000.00           0.080700          2421.0   \n",
       "2               45000.00           0.004889           220.0   \n",
       "3                5000.00           0.000200             1.0   \n",
       "4               19500.00           0.065795          1283.0   \n",
       "...                  ...                ...             ...   \n",
       "378656          50000.00           0.000500            25.0   \n",
       "378657           1500.00           0.103333           155.0   \n",
       "378658          15000.00           0.001333            20.0   \n",
       "378659          15000.00           0.013333           200.0   \n",
       "378660           2000.00           0.262000           524.0   \n",
       "\n",
       "        pledged_amount_usd     state  backers  avg_amount_per_backer  \\\n",
       "0                      0.0    failed        0               0.000000   \n",
       "1                   2421.0    failed       15             161.400000   \n",
       "2                    220.0    failed        3              73.333333   \n",
       "3                      1.0    failed        1               1.000000   \n",
       "4                   1283.0  canceled       14              91.642857   \n",
       "...                    ...       ...      ...                    ...   \n",
       "378656                25.0  canceled        1              25.000000   \n",
       "378657               155.0    failed        5              31.000000   \n",
       "378658                20.0    failed        1              20.000000   \n",
       "378659               200.0    failed        6              33.333333   \n",
       "378660               524.0    failed       17              30.823529   \n",
       "\n",
       "        state_numeric launch_month  \n",
       "0                   0           08  \n",
       "1                   0           09  \n",
       "2                   0           01  \n",
       "3                   0           03  \n",
       "4                   0           07  \n",
       "...               ...          ...  \n",
       "378656              0           09  \n",
       "378657              0           06  \n",
       "378658              0           07  \n",
       "378659              0           01  \n",
       "378660              0           07  \n",
       "\n",
       "[370448 rows x 20 columns]"
      ]
     },
     "execution_count": 70,
     "metadata": {},
     "output_type": "execute_result"
    }
   ],
   "source": [
    "df"
   ]
  },
  {
   "cell_type": "markdown",
   "metadata": {},
   "source": [
    "do analysis excluding the 10-100 $ goals\n",
    "or reached- \n",
    "compare goal vs reached"
   ]
  },
  {
   "cell_type": "markdown",
   "metadata": {},
   "source": [
    "most backed projects are the same? - check"
   ]
  },
  {
   "cell_type": "markdown",
   "metadata": {},
   "source": [
    "where do do I want to go with this? Set story!\n"
   ]
  },
  {
   "cell_type": "code",
   "execution_count": 71,
   "metadata": {},
   "outputs": [
    {
     "data": {
      "text/html": [
       "<div>\n",
       "<style scoped>\n",
       "    .dataframe tbody tr th:only-of-type {\n",
       "        vertical-align: middle;\n",
       "    }\n",
       "\n",
       "    .dataframe tbody tr th {\n",
       "        vertical-align: top;\n",
       "    }\n",
       "\n",
       "    .dataframe thead th {\n",
       "        text-align: right;\n",
       "    }\n",
       "</style>\n",
       "<table border=\"1\" class=\"dataframe\">\n",
       "  <thead>\n",
       "    <tr style=\"text-align: right;\">\n",
       "      <th></th>\n",
       "      <th>ID</th>\n",
       "      <th>project_name</th>\n",
       "      <th>words_in_name</th>\n",
       "      <th>main_category</th>\n",
       "      <th>category</th>\n",
       "      <th>country</th>\n",
       "      <th>currency</th>\n",
       "      <th>launched</th>\n",
       "      <th>deadline</th>\n",
       "      <th>funding_period</th>\n",
       "      <th>project_goal</th>\n",
       "      <th>project_goal_usd</th>\n",
       "      <th>percentage_funded</th>\n",
       "      <th>pledged_amount</th>\n",
       "      <th>pledged_amount_usd</th>\n",
       "      <th>state</th>\n",
       "      <th>backers</th>\n",
       "      <th>avg_amount_per_backer</th>\n",
       "      <th>state_numeric</th>\n",
       "      <th>launch_month</th>\n",
       "    </tr>\n",
       "  </thead>\n",
       "  <tbody>\n",
       "    <tr>\n",
       "      <th>0</th>\n",
       "      <td>1000002330</td>\n",
       "      <td>The Songs of Adelaide &amp; Abullah</td>\n",
       "      <td>6.0</td>\n",
       "      <td>Publishing</td>\n",
       "      <td>Poetry</td>\n",
       "      <td>United Kingdom</td>\n",
       "      <td>GBP</td>\n",
       "      <td>2015-08-11 12:12:28</td>\n",
       "      <td>2015-10-09</td>\n",
       "      <td>59</td>\n",
       "      <td>1000.0</td>\n",
       "      <td>1533.95</td>\n",
       "      <td>0.000000</td>\n",
       "      <td>0.0</td>\n",
       "      <td>0.0</td>\n",
       "      <td>failed</td>\n",
       "      <td>0</td>\n",
       "      <td>0.000000</td>\n",
       "      <td>0</td>\n",
       "      <td>08</td>\n",
       "    </tr>\n",
       "    <tr>\n",
       "      <th>1</th>\n",
       "      <td>1000003930</td>\n",
       "      <td>Greeting From Earth: ZGAC Arts Capsule For ET</td>\n",
       "      <td>8.0</td>\n",
       "      <td>Film &amp; Video</td>\n",
       "      <td>Narrative Film</td>\n",
       "      <td>United States</td>\n",
       "      <td>USD</td>\n",
       "      <td>2017-09-02 04:43:57</td>\n",
       "      <td>2017-11-01</td>\n",
       "      <td>60</td>\n",
       "      <td>30000.0</td>\n",
       "      <td>30000.00</td>\n",
       "      <td>0.080700</td>\n",
       "      <td>2421.0</td>\n",
       "      <td>2421.0</td>\n",
       "      <td>failed</td>\n",
       "      <td>15</td>\n",
       "      <td>161.400000</td>\n",
       "      <td>0</td>\n",
       "      <td>09</td>\n",
       "    </tr>\n",
       "    <tr>\n",
       "      <th>2</th>\n",
       "      <td>1000004038</td>\n",
       "      <td>Where is Hank?</td>\n",
       "      <td>3.0</td>\n",
       "      <td>Film &amp; Video</td>\n",
       "      <td>Narrative Film</td>\n",
       "      <td>United States</td>\n",
       "      <td>USD</td>\n",
       "      <td>2013-01-12 00:20:50</td>\n",
       "      <td>2013-02-26</td>\n",
       "      <td>45</td>\n",
       "      <td>45000.0</td>\n",
       "      <td>45000.00</td>\n",
       "      <td>0.004889</td>\n",
       "      <td>220.0</td>\n",
       "      <td>220.0</td>\n",
       "      <td>failed</td>\n",
       "      <td>3</td>\n",
       "      <td>73.333333</td>\n",
       "      <td>0</td>\n",
       "      <td>01</td>\n",
       "    </tr>\n",
       "    <tr>\n",
       "      <th>3</th>\n",
       "      <td>1000007540</td>\n",
       "      <td>ToshiCapital Rekordz Needs Help to Complete Album</td>\n",
       "      <td>7.0</td>\n",
       "      <td>Music</td>\n",
       "      <td>Music</td>\n",
       "      <td>United States</td>\n",
       "      <td>USD</td>\n",
       "      <td>2012-03-17 03:24:11</td>\n",
       "      <td>2012-04-16</td>\n",
       "      <td>30</td>\n",
       "      <td>5000.0</td>\n",
       "      <td>5000.00</td>\n",
       "      <td>0.000200</td>\n",
       "      <td>1.0</td>\n",
       "      <td>1.0</td>\n",
       "      <td>failed</td>\n",
       "      <td>1</td>\n",
       "      <td>1.000000</td>\n",
       "      <td>0</td>\n",
       "      <td>03</td>\n",
       "    </tr>\n",
       "    <tr>\n",
       "      <th>4</th>\n",
       "      <td>1000011046</td>\n",
       "      <td>Community Film Project: The Art of Neighborhoo...</td>\n",
       "      <td>8.0</td>\n",
       "      <td>Film &amp; Video</td>\n",
       "      <td>Film &amp; Video</td>\n",
       "      <td>United States</td>\n",
       "      <td>USD</td>\n",
       "      <td>2015-07-04 08:35:03</td>\n",
       "      <td>2015-08-29</td>\n",
       "      <td>56</td>\n",
       "      <td>19500.0</td>\n",
       "      <td>19500.00</td>\n",
       "      <td>0.065795</td>\n",
       "      <td>1283.0</td>\n",
       "      <td>1283.0</td>\n",
       "      <td>canceled</td>\n",
       "      <td>14</td>\n",
       "      <td>91.642857</td>\n",
       "      <td>0</td>\n",
       "      <td>07</td>\n",
       "    </tr>\n",
       "    <tr>\n",
       "      <th>...</th>\n",
       "      <td>...</td>\n",
       "      <td>...</td>\n",
       "      <td>...</td>\n",
       "      <td>...</td>\n",
       "      <td>...</td>\n",
       "      <td>...</td>\n",
       "      <td>...</td>\n",
       "      <td>...</td>\n",
       "      <td>...</td>\n",
       "      <td>...</td>\n",
       "      <td>...</td>\n",
       "      <td>...</td>\n",
       "      <td>...</td>\n",
       "      <td>...</td>\n",
       "      <td>...</td>\n",
       "      <td>...</td>\n",
       "      <td>...</td>\n",
       "      <td>...</td>\n",
       "      <td>...</td>\n",
       "      <td>...</td>\n",
       "    </tr>\n",
       "    <tr>\n",
       "      <th>378656</th>\n",
       "      <td>999976400</td>\n",
       "      <td>ChknTruk Nationwide Charity Drive 2014 (Canceled)</td>\n",
       "      <td>6.0</td>\n",
       "      <td>Film &amp; Video</td>\n",
       "      <td>Documentary</td>\n",
       "      <td>United States</td>\n",
       "      <td>USD</td>\n",
       "      <td>2014-09-17 02:35:30</td>\n",
       "      <td>2014-10-17</td>\n",
       "      <td>30</td>\n",
       "      <td>50000.0</td>\n",
       "      <td>50000.00</td>\n",
       "      <td>0.000500</td>\n",
       "      <td>25.0</td>\n",
       "      <td>25.0</td>\n",
       "      <td>canceled</td>\n",
       "      <td>1</td>\n",
       "      <td>25.000000</td>\n",
       "      <td>0</td>\n",
       "      <td>09</td>\n",
       "    </tr>\n",
       "    <tr>\n",
       "      <th>378657</th>\n",
       "      <td>999977640</td>\n",
       "      <td>The Tribe</td>\n",
       "      <td>2.0</td>\n",
       "      <td>Film &amp; Video</td>\n",
       "      <td>Narrative Film</td>\n",
       "      <td>United States</td>\n",
       "      <td>USD</td>\n",
       "      <td>2011-06-22 03:35:14</td>\n",
       "      <td>2011-07-19</td>\n",
       "      <td>27</td>\n",
       "      <td>1500.0</td>\n",
       "      <td>1500.00</td>\n",
       "      <td>0.103333</td>\n",
       "      <td>155.0</td>\n",
       "      <td>155.0</td>\n",
       "      <td>failed</td>\n",
       "      <td>5</td>\n",
       "      <td>31.000000</td>\n",
       "      <td>0</td>\n",
       "      <td>06</td>\n",
       "    </tr>\n",
       "    <tr>\n",
       "      <th>378658</th>\n",
       "      <td>999986353</td>\n",
       "      <td>Walls of Remedy- New lesbian Romantic Comedy f...</td>\n",
       "      <td>11.0</td>\n",
       "      <td>Film &amp; Video</td>\n",
       "      <td>Narrative Film</td>\n",
       "      <td>United States</td>\n",
       "      <td>USD</td>\n",
       "      <td>2010-07-01 19:40:30</td>\n",
       "      <td>2010-08-16</td>\n",
       "      <td>46</td>\n",
       "      <td>15000.0</td>\n",
       "      <td>15000.00</td>\n",
       "      <td>0.001333</td>\n",
       "      <td>20.0</td>\n",
       "      <td>20.0</td>\n",
       "      <td>failed</td>\n",
       "      <td>1</td>\n",
       "      <td>20.000000</td>\n",
       "      <td>0</td>\n",
       "      <td>07</td>\n",
       "    </tr>\n",
       "    <tr>\n",
       "      <th>378659</th>\n",
       "      <td>999987933</td>\n",
       "      <td>BioDefense Education Kit</td>\n",
       "      <td>3.0</td>\n",
       "      <td>Technology</td>\n",
       "      <td>Technology</td>\n",
       "      <td>United States</td>\n",
       "      <td>USD</td>\n",
       "      <td>2016-01-13 18:13:53</td>\n",
       "      <td>2016-02-13</td>\n",
       "      <td>31</td>\n",
       "      <td>15000.0</td>\n",
       "      <td>15000.00</td>\n",
       "      <td>0.013333</td>\n",
       "      <td>200.0</td>\n",
       "      <td>200.0</td>\n",
       "      <td>failed</td>\n",
       "      <td>6</td>\n",
       "      <td>33.333333</td>\n",
       "      <td>0</td>\n",
       "      <td>01</td>\n",
       "    </tr>\n",
       "    <tr>\n",
       "      <th>378660</th>\n",
       "      <td>999988282</td>\n",
       "      <td>Nou Renmen Ayiti!  We Love Haiti!</td>\n",
       "      <td>7.0</td>\n",
       "      <td>Art</td>\n",
       "      <td>Performance Art</td>\n",
       "      <td>United States</td>\n",
       "      <td>USD</td>\n",
       "      <td>2011-07-19 09:07:47</td>\n",
       "      <td>2011-08-16</td>\n",
       "      <td>28</td>\n",
       "      <td>2000.0</td>\n",
       "      <td>2000.00</td>\n",
       "      <td>0.262000</td>\n",
       "      <td>524.0</td>\n",
       "      <td>524.0</td>\n",
       "      <td>failed</td>\n",
       "      <td>17</td>\n",
       "      <td>30.823529</td>\n",
       "      <td>0</td>\n",
       "      <td>07</td>\n",
       "    </tr>\n",
       "  </tbody>\n",
       "</table>\n",
       "<p>370448 rows × 20 columns</p>\n",
       "</div>"
      ],
      "text/plain": [
       "                ID                                       project_name  \\\n",
       "0       1000002330                    The Songs of Adelaide & Abullah   \n",
       "1       1000003930      Greeting From Earth: ZGAC Arts Capsule For ET   \n",
       "2       1000004038                                     Where is Hank?   \n",
       "3       1000007540  ToshiCapital Rekordz Needs Help to Complete Album   \n",
       "4       1000011046  Community Film Project: The Art of Neighborhoo...   \n",
       "...            ...                                                ...   \n",
       "378656   999976400  ChknTruk Nationwide Charity Drive 2014 (Canceled)   \n",
       "378657   999977640                                          The Tribe   \n",
       "378658   999986353  Walls of Remedy- New lesbian Romantic Comedy f...   \n",
       "378659   999987933                           BioDefense Education Kit   \n",
       "378660   999988282                  Nou Renmen Ayiti!  We Love Haiti!   \n",
       "\n",
       "        words_in_name main_category         category         country currency  \\\n",
       "0                 6.0    Publishing           Poetry  United Kingdom      GBP   \n",
       "1                 8.0  Film & Video   Narrative Film   United States      USD   \n",
       "2                 3.0  Film & Video   Narrative Film   United States      USD   \n",
       "3                 7.0         Music            Music   United States      USD   \n",
       "4                 8.0  Film & Video     Film & Video   United States      USD   \n",
       "...               ...           ...              ...             ...      ...   \n",
       "378656            6.0  Film & Video      Documentary   United States      USD   \n",
       "378657            2.0  Film & Video   Narrative Film   United States      USD   \n",
       "378658           11.0  Film & Video   Narrative Film   United States      USD   \n",
       "378659            3.0    Technology       Technology   United States      USD   \n",
       "378660            7.0           Art  Performance Art   United States      USD   \n",
       "\n",
       "                  launched   deadline  funding_period  project_goal  \\\n",
       "0      2015-08-11 12:12:28 2015-10-09              59        1000.0   \n",
       "1      2017-09-02 04:43:57 2017-11-01              60       30000.0   \n",
       "2      2013-01-12 00:20:50 2013-02-26              45       45000.0   \n",
       "3      2012-03-17 03:24:11 2012-04-16              30        5000.0   \n",
       "4      2015-07-04 08:35:03 2015-08-29              56       19500.0   \n",
       "...                    ...        ...             ...           ...   \n",
       "378656 2014-09-17 02:35:30 2014-10-17              30       50000.0   \n",
       "378657 2011-06-22 03:35:14 2011-07-19              27        1500.0   \n",
       "378658 2010-07-01 19:40:30 2010-08-16              46       15000.0   \n",
       "378659 2016-01-13 18:13:53 2016-02-13              31       15000.0   \n",
       "378660 2011-07-19 09:07:47 2011-08-16              28        2000.0   \n",
       "\n",
       "        project_goal_usd  percentage_funded  pledged_amount  \\\n",
       "0                1533.95           0.000000             0.0   \n",
       "1               30000.00           0.080700          2421.0   \n",
       "2               45000.00           0.004889           220.0   \n",
       "3                5000.00           0.000200             1.0   \n",
       "4               19500.00           0.065795          1283.0   \n",
       "...                  ...                ...             ...   \n",
       "378656          50000.00           0.000500            25.0   \n",
       "378657           1500.00           0.103333           155.0   \n",
       "378658          15000.00           0.001333            20.0   \n",
       "378659          15000.00           0.013333           200.0   \n",
       "378660           2000.00           0.262000           524.0   \n",
       "\n",
       "        pledged_amount_usd     state  backers  avg_amount_per_backer  \\\n",
       "0                      0.0    failed        0               0.000000   \n",
       "1                   2421.0    failed       15             161.400000   \n",
       "2                    220.0    failed        3              73.333333   \n",
       "3                      1.0    failed        1               1.000000   \n",
       "4                   1283.0  canceled       14              91.642857   \n",
       "...                    ...       ...      ...                    ...   \n",
       "378656                25.0  canceled        1              25.000000   \n",
       "378657               155.0    failed        5              31.000000   \n",
       "378658                20.0    failed        1              20.000000   \n",
       "378659               200.0    failed        6              33.333333   \n",
       "378660               524.0    failed       17              30.823529   \n",
       "\n",
       "        state_numeric launch_month  \n",
       "0                   0           08  \n",
       "1                   0           09  \n",
       "2                   0           01  \n",
       "3                   0           03  \n",
       "4                   0           07  \n",
       "...               ...          ...  \n",
       "378656              0           09  \n",
       "378657              0           06  \n",
       "378658              0           07  \n",
       "378659              0           01  \n",
       "378660              0           07  \n",
       "\n",
       "[370448 rows x 20 columns]"
      ]
     },
     "execution_count": 71,
     "metadata": {},
     "output_type": "execute_result"
    }
   ],
   "source": [
    "df"
   ]
  },
  {
   "cell_type": "code",
   "execution_count": null,
   "metadata": {},
   "outputs": [],
   "source": []
  }
 ],
 "metadata": {
  "kernelspec": {
   "display_name": "Python 3",
   "language": "python",
   "name": "python3"
  },
  "language_info": {
   "codemirror_mode": {
    "name": "ipython",
    "version": 3
   },
   "file_extension": ".py",
   "mimetype": "text/x-python",
   "name": "python",
   "nbconvert_exporter": "python",
   "pygments_lexer": "ipython3",
   "version": "3.8.3"
  }
 },
 "nbformat": 4,
 "nbformat_minor": 4
}
